{
 "cells": [
  {
   "cell_type": "code",
   "execution_count": 1,
   "metadata": {},
   "outputs": [],
   "source": [
    "t1=()"
   ]
  },
  {
   "cell_type": "code",
   "execution_count": 2,
   "metadata": {},
   "outputs": [
    {
     "name": "stdout",
     "output_type": "stream",
     "text": [
      "()\n"
     ]
    }
   ],
   "source": [
    "print(t1)\n"
   ]
  },
  {
   "cell_type": "code",
   "execution_count": 3,
   "metadata": {},
   "outputs": [],
   "source": [
    "t2=1,2,3"
   ]
  },
  {
   "cell_type": "code",
   "execution_count": 5,
   "metadata": {},
   "outputs": [
    {
     "name": "stdout",
     "output_type": "stream",
     "text": [
      "(1, 2, 3)\n"
     ]
    }
   ],
   "source": [
    "print(t2)"
   ]
  },
  {
   "cell_type": "code",
   "execution_count": 6,
   "metadata": {},
   "outputs": [],
   "source": [
    "t3=(1,2,3)"
   ]
  },
  {
   "cell_type": "code",
   "execution_count": 7,
   "metadata": {},
   "outputs": [
    {
     "name": "stdout",
     "output_type": "stream",
     "text": [
      "(1, 2, 3)\n"
     ]
    }
   ],
   "source": [
    "print(t3)"
   ]
  },
  {
   "cell_type": "code",
   "execution_count": 8,
   "metadata": {},
   "outputs": [],
   "source": [
    "t3=(1,2,3)"
   ]
  },
  {
   "cell_type": "code",
   "execution_count": 9,
   "metadata": {},
   "outputs": [
    {
     "name": "stdout",
     "output_type": "stream",
     "text": [
      "1\n"
     ]
    }
   ],
   "source": [
    "print(t3[0])"
   ]
  },
  {
   "cell_type": "code",
   "execution_count": 10,
   "metadata": {},
   "outputs": [],
   "source": [
    "t3=(1,2,3)"
   ]
  },
  {
   "cell_type": "code",
   "execution_count": 11,
   "metadata": {},
   "outputs": [],
   "source": [
    "a,b,c=t3"
   ]
  },
  {
   "cell_type": "code",
   "execution_count": 12,
   "metadata": {},
   "outputs": [
    {
     "name": "stdout",
     "output_type": "stream",
     "text": [
      "a= 1 ,b= 2 ,c= 3\n"
     ]
    }
   ],
   "source": [
    "print('a=',a,',b=',b,',c=',c)"
   ]
  },
  {
   "cell_type": "code",
   "execution_count": 14,
   "metadata": {},
   "outputs": [
    {
     "name": "stdout",
     "output_type": "stream",
     "text": [
      "交換前 a= 10 b= 20\n",
      "交換後 a= 20 b= 10\n"
     ]
    }
   ],
   "source": [
    "a=10\n",
    "b=20\n",
    "print('交換前','a=',a,'b=',b)\n",
    "a,b=b,a\n",
    "print('交換後','a=',a,'b=',b)"
   ]
  },
  {
   "cell_type": "code",
   "execution_count": 15,
   "metadata": {},
   "outputs": [
    {
     "name": "stdout",
     "output_type": "stream",
     "text": [
      "執行shoplist.append('coffee bean')後\n",
      "index= 2\n"
     ]
    }
   ],
   "source": [
    "shoplist=['milk','egg','coffee bean','watermelon','pineapple']\n",
    "index=shoplist.index('coffee bean')\n",
    "print(\"執行shoplist.append('coffee bean')後\")\n",
    "print('index=',index)"
   ]
  },
  {
   "cell_type": "code",
   "execution_count": 16,
   "metadata": {},
   "outputs": [
    {
     "name": "stdout",
     "output_type": "stream",
     "text": [
      "執行shoplist.append('bread')後\n",
      "['milk', 'egg', 'coffee bean', 'watermelon', 'pineapple', 'bread']\n"
     ]
    }
   ],
   "source": [
    "shoplist=['milk','egg','coffee bean','watermelon','pineapple']\n",
    "shoplist.append('bread')\n",
    "print(\"執行shoplist.append('bread')後\")\n",
    "print(shoplist)"
   ]
  },
  {
   "cell_type": "code",
   "execution_count": 20,
   "metadata": {},
   "outputs": [
    {
     "name": "stdout",
     "output_type": "stream",
     "text": [
      "執行shoplist.insert(4,'apple')後\n",
      "['milk', 'egg', 'coffee bean', 'watermelon', 'apple', 'pineapple']\n"
     ]
    }
   ],
   "source": [
    "shoplist=['milk','egg','coffee bean','watermelon','pineapple']\n",
    "shoplist.insert(4,'apple')\n",
    "print(\"執行shoplist.insert(4,'apple')後\")\n",
    "print(shoplist)"
   ]
  },
  {
   "cell_type": "code",
   "execution_count": 18,
   "metadata": {},
   "outputs": [
    {
     "name": "stdout",
     "output_type": "stream",
     "text": [
      "執行shoplist.remove('egg')後\n",
      "['milk', 'coffee bean', 'watermelon', 'pineapple']\n"
     ]
    }
   ],
   "source": [
    "shoplist=['milk','egg','coffee bean','watermelon','pineapple']\n",
    "shoplist.remove('egg')\n",
    "print(\"執行shoplist.remove('egg')後\")\n",
    "print(shoplist)"
   ]
  },
  {
   "cell_type": "code",
   "execution_count": 21,
   "metadata": {},
   "outputs": [
    {
     "name": "stdout",
     "output_type": "stream",
     "text": [
      "執行del shoplist[0]後\n",
      "['egg', 'coffee bean', 'watermelon', 'pineapple']\n"
     ]
    }
   ],
   "source": [
    "shoplist=['milk','egg','coffee bean','watermelon','pineapple']\n",
    "del shoplist[0]\n",
    "print(\"執行del shoplist[0]後\")\n",
    "print(shoplist)"
   ]
  },
  {
   "cell_type": "code",
   "execution_count": 22,
   "metadata": {},
   "outputs": [
    {
     "name": "stdout",
     "output_type": "stream",
     "text": [
      "執行shoplist.pop[0]後\n",
      "['egg', 'coffee bean', 'watermelon', 'pineapple']\n",
      "shoplist.pop()\n",
      "['egg', 'coffee bean', 'watermelon']\n",
      "shoplist.pop(-1)\n",
      "['egg', 'coffee bean']\n"
     ]
    }
   ],
   "source": [
    "shoplist=['milk','egg','coffee bean','watermelon','pineapple']\n",
    "shoplist.pop(0)\n",
    "print(\"執行shoplist.pop[0]後\")\n",
    "print(shoplist)\n",
    "shoplist.pop()\n",
    "print(\"shoplist.pop()\")\n",
    "print(shoplist)\n",
    "shoplist.pop(-1)\n",
    "print(\"shoplist.pop(-1)\")\n",
    "print(shoplist)\n"
   ]
  },
  {
   "cell_type": "code",
   "execution_count": 23,
   "metadata": {},
   "outputs": [
    {
     "name": "stdout",
     "output_type": "stream",
     "text": [
      "執行shoplist.sort()後\n",
      "['coffee', 'egg', 'milk', 'watermelon']\n"
     ]
    }
   ],
   "source": [
    "shoplist=['milk','egg','coffee','watermelon']\n",
    "shoplist.sort()\n",
    "print(\"執行shoplist.sort()後\")\n",
    "print(shoplist)"
   ]
  },
  {
   "cell_type": "code",
   "execution_count": 24,
   "metadata": {},
   "outputs": [
    {
     "name": "stdout",
     "output_type": "stream",
     "text": [
      "串列可以包含各種資料型別的元素\n",
      "[1, 2.0, 3, 'python']\n"
     ]
    }
   ],
   "source": [
    "list=[1,2.0,3,'python']\n",
    "print(\"串列可以包含各種資料型別的元素\")\n",
    "print(list)"
   ]
  },
  {
   "cell_type": "code",
   "execution_count": 25,
   "metadata": {},
   "outputs": [
    {
     "name": "stdout",
     "output_type": "stream",
     "text": [
      "milk\n",
      "egg\n",
      "coffee\n",
      "watermelon\n"
     ]
    }
   ],
   "source": [
    "shoplist=['milk','egg','coffee','watermelon']\n",
    "for item in shoplist:\n",
    "    print(item)"
   ]
  },
  {
   "cell_type": "code",
   "execution_count": 27,
   "metadata": {},
   "outputs": [
    {
     "name": "stdout",
     "output_type": "stream",
     "text": [
      "['milk', 'egg', 'coffee bean', 'watermelon', 'pineapple']\n"
     ]
    }
   ],
   "source": [
    "shoplist1=['milk','egg','coffee bean']\n",
    "shoplist2=['watermelon','pineapple']\n",
    "shoplist_all=shoplist1+shoplist2\n",
    "print(shoplist_all)"
   ]
  },
  {
   "cell_type": "code",
   "execution_count": 34,
   "metadata": {},
   "outputs": [
    {
     "ename": "TypeError",
     "evalue": "'list' object is not callable",
     "output_type": "error",
     "traceback": [
      "\u001b[1;31m---------------------------------------------------------------------------\u001b[0m",
      "\u001b[1;31mTypeError\u001b[0m                                 Traceback (most recent call last)",
      "\u001b[1;32m<ipython-input-34-adc699c8458d>\u001b[0m in \u001b[0;36m<module>\u001b[1;34m\u001b[0m\n\u001b[1;32m----> 1\u001b[1;33m \u001b[0mlist1\u001b[0m\u001b[1;33m=\u001b[0m\u001b[0mlist\u001b[0m\u001b[1;33m(\u001b[0m\u001b[1;34m'python'\u001b[0m\u001b[1;33m)\u001b[0m\u001b[1;33m\u001b[0m\u001b[1;33m\u001b[0m\u001b[0m\n\u001b[0m\u001b[0;32m      2\u001b[0m \u001b[0mprint\u001b[0m\u001b[1;33m(\u001b[0m\u001b[0mlist1\u001b[0m\u001b[1;33m)\u001b[0m\u001b[1;33m\u001b[0m\u001b[1;33m\u001b[0m\u001b[0m\n\u001b[0;32m      3\u001b[0m \u001b[0mtuple2\u001b[0m\u001b[1;33m=\u001b[0m\u001b[0mlist\u001b[0m\u001b[1;33m(\u001b[0m\u001b[0mtuple2\u001b[0m\u001b[1;33m)\u001b[0m\u001b[1;33m\u001b[0m\u001b[1;33m\u001b[0m\u001b[0m\n\u001b[0;32m      4\u001b[0m \u001b[0mlist2\u001b[0m\u001b[1;33m=\u001b[0m\u001b[0mlist\u001b[0m\u001b[1;33m(\u001b[0m\u001b[0mtuple2\u001b[0m\u001b[1;33m)\u001b[0m\u001b[1;33m\u001b[0m\u001b[1;33m\u001b[0m\u001b[0m\n\u001b[0;32m      5\u001b[0m \u001b[0mprint\u001b[0m\u001b[1;33m(\u001b[0m\u001b[0mlist2\u001b[0m\u001b[1;33m)\u001b[0m\u001b[1;33m\u001b[0m\u001b[1;33m\u001b[0m\u001b[0m\n",
      "\u001b[1;31mTypeError\u001b[0m: 'list' object is not callable"
     ]
    }
   ],
   "source": [
    "list1=list('python')http://localhost:8888/notebooks/Untitled.ipynb?kernel_name=python3#\n",
    "print(list1)\n",
    "tuple2=list(tuple2)\n",
    "list2=list(tuple2)\n",
    "print(list2)"
   ]
  },
  {
   "cell_type": "code",
   "execution_count": 35,
   "metadata": {},
   "outputs": [
    {
     "name": "stdout",
     "output_type": "stream",
     "text": [
      "['2016', '1', '1']\n"
     ]
    }
   ],
   "source": [
    "list3=\"2016/1/1\".split('/')\n",
    "print(list3)"
   ]
  },
  {
   "cell_type": "code",
   "execution_count": null,
   "metadata": {},
   "outputs": [],
   "source": []
  }
 ],
 "metadata": {
  "kernelspec": {
   "display_name": "Python 3",
   "language": "python",
   "name": "python3"
  },
  "language_info": {
   "codemirror_mode": {
    "name": "ipython",
    "version": 3
   },
   "file_extension": ".py",
   "mimetype": "text/x-python",
   "name": "python",
   "nbconvert_exporter": "python",
   "pygments_lexer": "ipython3",
   "version": "3.7.3"
  }
 },
 "nbformat": 4,
 "nbformat_minor": 2
}
